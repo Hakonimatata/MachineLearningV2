{
 "cells": [
  {
   "cell_type": "markdown",
   "metadata": {},
   "source": [
    "# **Assignment 2**"
   ]
  },
  {
   "cell_type": "markdown",
   "metadata": {},
   "source": [
    "## Framing the Problem\n",
    "\n",
    "\n",
    "Industrial robotic arms often require extremely high precision to complete their tasks accurately and efficiently. Any deviation from expected performance can lead to defects, increased downtime, or even damage to equipment. Therefore, implementing real-time anomaly detection is crucial for ensuring smooth and reliable operation.  \n",
    "\n",
    "The primary business objective of real-time anomaly detection is to identify irregularities during operation before they escalate into critical failures. By continuously monitoring sensor data, the system can detect deviations from normal patterns. This allows for immediate corrective action, such as halting the process or triggering automated adjustments.  \n",
    "\n",
    "By preventing potential failures early, businesses can reduce waste, minimize downtime, and maintain high-quality production standards. Additionally, proactive anomaly detection enhances equipment longevity, reduces maintenance costs, and improves overall operational efficiency\n",
    "\n"
   ]
  },
  {
   "cell_type": "markdown",
   "metadata": {},
   "source": [
    "---\n",
    "We will explore three different methods for anomaly detection: K-Means, DBSCAN and Gaussian Mixture.\n",
    "\n",
    "Performance should be measured by validating the model on nomal data found in ``IMU_20Hz_freq_drop.csv`` and  `IMU_10Hz`. A suitable threshold will be chosen to detect unnormal behaviour over a time window.\n",
    "\n",
    "* For K-Means we will compare the inertias of the clusters to the inertias generated from normal data.\n",
    "\n",
    "* For DBSCAN we will use the fraction of datapoints that fall outside clusters.\n",
    "\n",
    "* For Gaussian Mixture we will use the mean log-likelihood to compare with a threshold.\n",
    "\n"
   ]
  },
  {
   "cell_type": "markdown",
   "metadata": {},
   "source": [
    "### Assumptions\n",
    "\n",
    "* Due to how the IMUs are set up for data collection, we assume some variations in data quality. The IMUs are placed on a breadboard that is secured with a strap. This likely explains the minor deviations found in the normal data recorded from ``IMU_20Hz_freq_drop.csv``. To account for this, we will simply adjust the threshold accordingly.\n",
    "\n",
    "* After testing with resampling techniques to maintain a consistent sampling frequency, without any significant differences, we assume that the sampling frequency of the different IMUs does not impose any difference."
   ]
  },
  {
   "cell_type": "markdown",
   "metadata": {},
   "source": [
    "# Collecting the Data"
   ]
  },
  {
   "cell_type": "markdown",
   "metadata": {},
   "source": [
    "For anomaly detection to work, we need a sequential process  data of \n",
    "\n",
    "The data is collected from here:\n",
    "https://www.kaggle.com/datasets/hkayan/industrial-robotic-arm-imu-data-casper-1-and-2?fbclid=IwY2xjawI3yJdleHRuA2FlbQIxMAABHeB7cl5kMDV8YOgyqVeK-oP1pkBnbs1WEpvr3ZeDjBVKGANccmx1C2IKeg_aem_ZMw13qbiYzDAL9aYGz2JHA"
   ]
  }
 ],
 "metadata": {
  "language_info": {
   "name": "python"
  }
 },
 "nbformat": 4,
 "nbformat_minor": 2
}
